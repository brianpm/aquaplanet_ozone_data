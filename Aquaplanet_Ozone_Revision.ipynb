{
 "cells": [
  {
   "cell_type": "markdown",
   "metadata": {},
   "source": [
    "# Aquaplanet Ozone dataset revision\n",
    "\n",
    "Email form Yoko Tsushima informed me that the high-top ozone dataset (DOI: 10.5065/D64X5653) was not zonally symmetric.\n",
    "\n",
    "Here I simply confirm that is true. Then we take the zonal average and save an updated dataset.\n",
    "\n",
    "The original file was made with an NCL script. The zonal asymmetry was present because I forgot to replace the OZONE array with its zonal average. This notebook just does that final step."
   ]
  },
  {
   "cell_type": "code",
   "execution_count": 1,
   "metadata": {},
   "outputs": [],
   "source": [
    "import xarray as xr\n",
    "import matplotlib.pyplot as plt\n",
    "import datetime"
   ]
  },
  {
   "cell_type": "code",
   "execution_count": 2,
   "metadata": {},
   "outputs": [],
   "source": [
    "# ORIGINAL DATA\n",
    "F = xr.open_dataset('/Users/brianpm/Tub/aquaplanet_ozone_hightop_c160920.nc')"
   ]
  },
  {
   "cell_type": "code",
   "execution_count": 3,
   "metadata": {},
   "outputs": [
    {
     "data": {
      "text/plain": [
       "<xarray.Dataset>\n",
       "Dimensions:  (lat: 96, lev: 69, lon: 144, time: 12)\n",
       "Coordinates:\n",
       "  * time     (time) float64 4.382e+04 4.384e+04 4.388e+04 4.390e+04 ...\n",
       "  * lev      (lev) float32 5e-06 1e-05 1.5e-05 2.5e-05 4.5e-05 7e-05 1e-04 ...\n",
       "  * lat      (lat) float64 -90.0 -88.11 -86.21 -84.32 -82.42 -80.53 -78.63 ...\n",
       "  * lon      (lon) float64 0.0 2.5 5.0 7.5 10.0 12.5 15.0 17.5 20.0 22.5 ...\n",
       "Data variables:\n",
       "    OZONE    (time, lev, lat, lon) float64 ...\n",
       "    P0       float64 ...\n",
       "    date     (time) int32 ...\n",
       "    datesec  (time) int32 ...\n",
       "Attributes:\n",
       "    title:        Aquaplanet ozone data set\n",
       "    institution:  NCAR\n",
       "    source:       Brian Medeiros <brianpm@ucar.edu>\n",
       "    comment:      Blended data based on APE ozone (from AMIP II) and WACCM cl...\n",
       "    history:      Thu Sep 22 13:17:56 2016: ncatted -O -a units,OZONE,m,c,FRA...\n",
       "    NCO:          \"4.5.5\""
      ]
     },
     "execution_count": 3,
     "metadata": {},
     "output_type": "execute_result"
    }
   ],
   "source": [
    "F"
   ]
  },
  {
   "cell_type": "code",
   "execution_count": 7,
   "metadata": {},
   "outputs": [
    {
     "data": {
      "text/plain": [
       "<matplotlib.collections.QuadMesh at 0x1215da3c8>"
      ]
     },
     "execution_count": 7,
     "metadata": {},
     "output_type": "execute_result"
    },
    {
     "data": {
      "image/png": "[encoded data removed]",
      "text/plain": [
       "<Figure size 432x288 with 1 Axes>"
      ]
     },
     "metadata": {},
     "output_type": "display_data"
    }
   ],
   "source": [
    "# JUST PLOT A MAP TO SEE THE ZONAL ASYMMETRY\n",
    "plt.pcolormesh(F['OZONE'].isel(time=1).sel(lev=1000, method='nearest'))"
   ]
  },
  {
   "cell_type": "code",
   "execution_count": 8,
   "metadata": {},
   "outputs": [],
   "source": [
    "# APPLY ZONAL AVERAGE\n",
    "ozone_zonal_average = F['OZONE'].mean(dim='lon')"
   ]
  },
  {
   "cell_type": "code",
   "execution_count": 9,
   "metadata": {},
   "outputs": [
    {
     "data": {
      "text/plain": [
       "<xarray.DataArray 'OZONE' (time: 12, lev: 69, lat: 96)>\n",
       "array([[[5.327674e-13, 5.154311e-13, ..., 5.154311e-13, 5.327674e-13],\n",
       "        [1.624036e-11, 1.638772e-11, ..., 1.638772e-11, 1.624036e-11],\n",
       "        ...,\n",
       "        [2.391247e-08, 2.390994e-08, ..., 2.337224e-08, 2.337057e-08],\n",
       "        [2.260400e-08, 2.262803e-08, ..., 2.377535e-08, 2.347257e-08]],\n",
       "\n",
       "       [[5.327674e-13, 5.154311e-13, ..., 5.154311e-13, 5.327674e-13],\n",
       "        [1.624036e-11, 1.638772e-11, ..., 1.638772e-11, 1.624036e-11],\n",
       "        ...,\n",
       "        [2.391247e-08, 2.390994e-08, ..., 2.337224e-08, 2.337057e-08],\n",
       "        [2.260400e-08, 2.262803e-08, ..., 2.377535e-08, 2.347257e-08]],\n",
       "\n",
       "       ...,\n",
       "\n",
       "       [[5.327674e-13, 5.154311e-13, ..., 5.154311e-13, 5.327674e-13],\n",
       "        [1.624036e-11, 1.638772e-11, ..., 1.638772e-11, 1.624036e-11],\n",
       "        ...,\n",
       "        [2.391247e-08, 2.390994e-08, ..., 2.337224e-08, 2.337057e-08],\n",
       "        [2.260400e-08, 2.262803e-08, ..., 2.377535e-08, 2.347257e-08]],\n",
       "\n",
       "       [[5.327674e-13, 5.154311e-13, ..., 5.154311e-13, 5.327674e-13],\n",
       "        [1.624036e-11, 1.638772e-11, ..., 1.638772e-11, 1.624036e-11],\n",
       "        ...,\n",
       "        [2.391247e-08, 2.390994e-08, ..., 2.337224e-08, 2.337057e-08],\n",
       "        [2.260400e-08, 2.262803e-08, ..., 2.377535e-08, 2.347257e-08]]])\n",
       "Coordinates:\n",
       "  * time     (time) float64 4.382e+04 4.384e+04 4.388e+04 4.390e+04 ...\n",
       "  * lev      (lev) float32 5e-06 1e-05 1.5e-05 2.5e-05 4.5e-05 7e-05 1e-04 ...\n",
       "  * lat      (lat) float64 -90.0 -88.11 -86.21 -84.32 -82.42 -80.53 -78.63 ..."
      ]
     },
     "execution_count": 9,
     "metadata": {},
     "output_type": "execute_result"
    }
   ],
   "source": [
    "ozone_zonal_average"
   ]
  },
  {
   "cell_type": "code",
   "execution_count": 10,
   "metadata": {},
   "outputs": [],
   "source": [
    "# BROADCAST ZONAL AVERAGE TO FULL ARRAY SIZE\n",
    "ozone1, ozone_za = xr.broadcast(F['OZONE'], ozone_zonal_average)"
   ]
  },
  {
   "cell_type": "code",
   "execution_count": 39,
   "metadata": {},
   "outputs": [
    {
     "data": {
      "text/plain": [
       "array(True)"
      ]
     },
     "execution_count": 39,
     "metadata": {},
     "output_type": "execute_result"
    }
   ],
   "source": [
    "# CONFIRM THAT ARBITRARY LONGITUDES ARE EQUAL\n",
    "(ozone_za[:,:,:,1] == ozone_za[:,:,:,99]).all().values"
   ]
  },
  {
   "cell_type": "code",
   "execution_count": 14,
   "metadata": {},
   "outputs": [],
   "source": [
    "# A NEW OBJECT THAT IS THE SAME AS OUR INPUT DATA\n",
    "# NOTE: This is an unnecessary step, as this just makes a new reference to F.\n",
    "out_ds = F"
   ]
  },
  {
   "cell_type": "code",
   "execution_count": 15,
   "metadata": {},
   "outputs": [],
   "source": [
    "# INSERT ZONAL AVERAGE OZONE\n",
    "out_ds['OZONE'] = ozone_za"
   ]
  },
  {
   "cell_type": "code",
   "execution_count": 33,
   "metadata": {},
   "outputs": [
    {
     "data": {
      "text/plain": [
       "<matplotlib.collections.QuadMesh at 0x12fd561d0>"
      ]
     },
     "execution_count": 33,
     "metadata": {},
     "output_type": "execute_result"
    },
    {
     "data": {
      "image/png": "[encoded data removed]",
      "text/plain": [
       "<Figure size 432x288 with 1 Axes>"
      ]
     },
     "metadata": {},
     "output_type": "display_data"
    }
   ],
   "source": [
    "# CONFIRM ZONAL SYMMETRY IN OUTPUT DATASET\n",
    "plt.pcolormesh(out_ds['OZONE'].isel(time=1).sel(lev=1000, method='nearest'))"
   ]
  },
  {
   "cell_type": "code",
   "execution_count": 25,
   "metadata": {},
   "outputs": [],
   "source": [
    "# APPEND A STATEMENT TO THE HISTORY ATTRIBUTE\n",
    "out_ds.attrs['history'] += f\"{str(datetime.date.today())}: Replaced OZONE with zonal_average[OZONE], as originally intended.\""
   ]
  },
  {
   "cell_type": "code",
   "execution_count": 27,
   "metadata": {},
   "outputs": [
    {
     "data": {
      "text/plain": [
       "'Thu Sep 22 13:17:56 2016: ncatted -O -a units,OZONE,m,c,FRACTION aquaplanet_ozone_hightop_c160920.nc2018-04-12: Replaced OZONE with zonal_average[OZONE], as originally intended.'"
      ]
     },
     "execution_count": 27,
     "metadata": {},
     "output_type": "execute_result"
    }
   ],
   "source": [
    "out_ds.attrs['history']"
   ]
  },
  {
   "cell_type": "code",
   "execution_count": 34,
   "metadata": {},
   "outputs": [],
   "source": [
    "# SAVE THE REVISED DATASET TO A NEW FILE \n",
    "out_ds.to_netcdf(f'/Users/brianpm/Tub/aquaplanet_ozone_hightop_c{datetime.date.today().strftime(\"%Y%m%d\")}.nc')"
   ]
  },
  {
   "cell_type": "markdown",
   "metadata": {},
   "source": [
    "This notebook was written by Brian Medeiros (brianpm@ucar.edu) on 12 April 2018. The revised data set will be published to earthsystemgrid.org pending instructions on how to publish a change. "
   ]
  },
  {
   "cell_type": "code",
   "execution_count": null,
   "metadata": {},
   "outputs": [],
   "source": []
  }
 ],
 "metadata": {
  "kernelspec": {
   "display_name": "Python [conda env:py3_forge]",
   "language": "python",
   "name": "conda-env-py3_forge-py"
  },
  "language_info": {
   "codemirror_mode": {
    "name": "ipython",
    "version": 3
   },
   "file_extension": ".py",
   "mimetype": "text/x-python",
   "name": "python",
   "nbconvert_exporter": "python",
   "pygments_lexer": "ipython3",
   "version": "3.6.5"
  }
 },
 "nbformat": 4,
 "nbformat_minor": 2
}
